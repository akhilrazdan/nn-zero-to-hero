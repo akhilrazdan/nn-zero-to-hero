{
 "cells": [
  {
   "cell_type": "code",
   "execution_count": 1,
   "id": "e3293c1c",
   "metadata": {},
   "outputs": [],
   "source": [
    "%load_ext autoreload\n",
    "%autoreload 2"
   ]
  },
  {
   "cell_type": "code",
   "execution_count": 2,
   "id": "fd9108ed",
   "metadata": {},
   "outputs": [],
   "source": [
    "import torch\n",
    "from torch import nn\n",
    "from helpers import MultiHeadAttention"
   ]
  },
  {
   "cell_type": "code",
   "execution_count": null,
   "id": "550eb6ad",
   "metadata": {},
   "outputs": [],
   "source": []
  },
  {
   "cell_type": "code",
   "execution_count": 3,
   "id": "8c8dfe71",
   "metadata": {},
   "outputs": [
    {
     "name": "stdout",
     "output_type": "stream",
     "text": [
      "\u001b[2mResolved \u001b[1m75 packages\u001b[0m \u001b[2min 0.53ms\u001b[0m\u001b[0m\n",
      "\u001b[2mAudited \u001b[1m55 packages\u001b[0m \u001b[2min 0.01ms\u001b[0m\u001b[0m\n"
     ]
    }
   ],
   "source": [
    "!uv add tiktoken"
   ]
  },
  {
   "cell_type": "code",
   "execution_count": 4,
   "id": "3cf3ebeb",
   "metadata": {},
   "outputs": [],
   "source": [
    "GPT_CONFIG = {\n",
    "    'vocab_size': 50257,\n",
    "    'context_length': 1024,\n",
    "    'emb_dim': 768,\n",
    "    'n_heads': 12,\n",
    "    'n_layers' : 12,\n",
    "    'drop_rate': 0.1,\n",
    "    'qkv_bias': False\n",
    "}"
   ]
  },
  {
   "cell_type": "code",
   "execution_count": 5,
   "id": "84c35492",
   "metadata": {},
   "outputs": [],
   "source": [
    "class DummyTransformerBlock(nn.Module): \n",
    "    def __init__(self, cfg): \n",
    "        super().__init__()\n",
    "\n",
    "    def forward(self, x): \n",
    "        return x\n",
    "    \n",
    "class DummyLayerNorm(nn.Module): \n",
    "    def __init__(self, normalized_shape, eps=1e-5): \n",
    "        super().__init__()\n",
    "\n",
    "    def forward(self, x): \n",
    "        return x"
   ]
  },
  {
   "cell_type": "code",
   "execution_count": 6,
   "id": "ac3a8cd7",
   "metadata": {},
   "outputs": [],
   "source": [
    "class GPT_Model(nn.Module): \n",
    "    def __init__(self, cfg): \n",
    "        super().__init__()\n",
    "        self.tok_emb = nn.Embedding(num_embeddings=cfg['vocab_size'], embedding_dim=cfg['emb_dim'])\n",
    "        self.pos_emb = nn.Embedding(num_embeddings=cfg['context_length'], embedding_dim=cfg['emb_dim'])\n",
    "        self.drop_emb = nn.Dropout(cfg['drop_rate'])\n",
    "        self.transformers = nn.Sequential(\n",
    "            *[DummyTransformerBlock(cfg) for i in range(cfg['n_layers'])]\n",
    "        )\n",
    "        self.final_norm = DummyLayerNorm(cfg['drop_rate'])\n",
    "        self.out_head = nn.Linear(cfg['emb_dim'], cfg['vocab_size'], bias=False)\n",
    "\n",
    "\n",
    "    def forward(self, in_idx): \n",
    "        b, t = in_idx.shape\n",
    "        tok_embeds = self.tok_emb(in_idx)\n",
    "        pos_embeds = self.pos_emb(\n",
    "            torch.arange(t, device=in_idx.device)\n",
    "        )\n",
    "        x = tok_embeds + pos_embeds\n",
    "        print(x.shape)\n",
    "        x = self.drop_emb(x)\n",
    "        x = self.transformers(x)\n",
    "        x = self.final_norm(x)        \n",
    "        logits = self.out_head(x)\n",
    "        return logits"
   ]
  },
  {
   "cell_type": "code",
   "execution_count": 7,
   "id": "6eb5da9e",
   "metadata": {},
   "outputs": [
    {
     "name": "stdout",
     "output_type": "stream",
     "text": [
      "[6109, 3626, 6100, 345]\n",
      "tensor([[6109, 3626, 6100,  345],\n",
      "        [6109, 1110, 6622,  257]])\n"
     ]
    }
   ],
   "source": [
    "import tiktoken\n",
    "\n",
    "tokenizer = tiktoken.get_encoding('gpt2')\n",
    "batch = []\n",
    "txt1 = 'Every effort moves you'\n",
    "txt2 = 'Every day holds a'\n",
    "print(tokenizer.encode(txt1))\n",
    "batch.append(torch.tensor(tokenizer.encode(txt1)))\n",
    "batch.append(torch.tensor(tokenizer.encode(txt2)))\n",
    "batch = torch.stack(batch, dim=0)\n",
    "print(batch)"
   ]
  },
  {
   "cell_type": "code",
   "execution_count": 8,
   "id": "fadb55b7",
   "metadata": {},
   "outputs": [
    {
     "name": "stdout",
     "output_type": "stream",
     "text": [
      "torch.Size([2, 4, 768])\n"
     ]
    },
    {
     "data": {
      "text/plain": [
       "torch.Size([2, 4, 50257])"
      ]
     },
     "execution_count": 8,
     "metadata": {},
     "output_type": "execute_result"
    }
   ],
   "source": [
    "torch.manual_seed(123)\n",
    "# inp = torch.randint(0, 50257, (2, 3) )\n",
    "gpt = GPT_Model(GPT_CONFIG)\n",
    "out = gpt(batch)\n",
    "out.shape"
   ]
  },
  {
   "cell_type": "code",
   "execution_count": 9,
   "id": "bdb267a7",
   "metadata": {},
   "outputs": [
    {
     "data": {
      "text/plain": [
       "tensor([[[-1.2034,  0.3201, -0.7130,  ..., -1.5548, -0.2390, -0.4667],\n",
       "         [-0.1192,  0.4539, -0.4432,  ...,  0.2392,  1.3469,  1.2430],\n",
       "         [ 0.5307,  1.6720, -0.4695,  ...,  1.1966,  0.0111,  0.5835],\n",
       "         [ 0.0139,  1.6754, -0.3388,  ...,  1.1586, -0.0435, -1.0400]],\n",
       "\n",
       "        [[-1.0908,  0.1798, -0.9484,  ..., -1.6047,  0.2439, -0.4530],\n",
       "         [-0.7860,  0.5581, -0.0610,  ...,  0.4835, -0.0077,  1.6621],\n",
       "         [ 0.3567,  1.2698, -0.6398,  ..., -0.0162, -0.1296,  0.3717],\n",
       "         [-0.2407, -0.7349, -0.5102,  ...,  2.0057, -0.3694,  0.1814]]],\n",
       "       grad_fn=<UnsafeViewBackward0>)"
      ]
     },
     "execution_count": 9,
     "metadata": {},
     "output_type": "execute_result"
    }
   ],
   "source": [
    "out"
   ]
  },
  {
   "cell_type": "code",
   "execution_count": 10,
   "id": "c97c5d98",
   "metadata": {},
   "outputs": [
    {
     "name": "stdout",
     "output_type": "stream",
     "text": [
      "mean=tensor([[0.0027],\n",
      "        [0.0000]], grad_fn=<MeanBackward1>),\n",
      "var=tensor([[2.2188e-05],\n",
      "        [0.0000e+00]], grad_fn=<VarBackward0>)\n",
      "---\n",
      "torch.Size([2, 3])\n",
      "mean2=tensor([[-3.9736e-08],\n",
      "        [        nan]], grad_fn=<MeanBackward1>),\n",
      "var2=tensor([[1.0000],\n",
      "        [   nan]], grad_fn=<VarBackward0>)\n"
     ]
    }
   ],
   "source": [
    "torch.manual_seed(123)\n",
    "inp = torch.randn((2,5))\n",
    "l = nn.Sequential(nn.Linear(5, 3), nn.ReLU())\n",
    "out = l(inp)\n",
    "\n",
    "mean = out.mean(dim=-1, keepdim=True)\n",
    "var = out.var(dim=-1, keepdim=True)\n",
    "\n",
    "print(f\"{mean=},\\n{var=}\")\n",
    "\n",
    "print(\"---\")\n",
    "\n",
    "norm = (out - mean) / torch.sqrt(var)\n",
    "print(norm.shape)\n",
    "mean2 = norm.mean(dim=-1, keepdim=True)\n",
    "var2 = norm.var(dim=-1, keepdim=True)\n",
    "print(f\"{mean2=},\\n{var2=}\")\n"
   ]
  },
  {
   "cell_type": "code",
   "execution_count": 11,
   "id": "083c330b",
   "metadata": {},
   "outputs": [],
   "source": [
    "class LayerNorm(nn.Module): \n",
    "    def __init__(self, emb_dim, eps=1e-5,):\n",
    "        super().__init__()\n",
    "        self.eps = eps\n",
    "        self.offset = nn.Parameter(torch.ones(emb_dim))\n",
    "        self.scale = nn.Parameter(torch.zeros(emb_dim))\n",
    "\n",
    "    def forward(self, x): \n",
    "        mean = x.mean(dim = -1, keepdim=True)\n",
    "        var = x.var(dim = -1, keepdim=True)\n",
    "\n",
    "        norm_x = (x - mean) / torch.sqrt(var + self.eps)\n",
    "        return self.offset + self.scale * norm_x"
   ]
  },
  {
   "cell_type": "code",
   "execution_count": 12,
   "id": "6cd36e26",
   "metadata": {},
   "outputs": [],
   "source": [
    "class GELU(nn.Module): \n",
    "    def __init__(self): \n",
    "        super().__init__()\n",
    "\n",
    "    def forward(self, x): \n",
    "        return 0.5 * x * (1 + torch.tanh(\n",
    "            torch.sqrt(torch.tensor(2.0 / torch.pi)) * \n",
    "            (x + 0.044715 * torch.pow(x, 3))\n",
    "        ))"
   ]
  },
  {
   "cell_type": "code",
   "execution_count": 13,
   "id": "72ea8b0f",
   "metadata": {},
   "outputs": [],
   "source": [
    "class FeedForward(nn.Module): \n",
    "    def __init__(self, cfg): \n",
    "        super().__init__()\n",
    "        self.layers = nn.Sequential(\n",
    "            nn.Linear(cfg['emb_dim'], 4 * cfg['emb_dim']),\n",
    "            GELU(),\n",
    "            nn.Linear(4 * cfg['emb_dim'], cfg['emb_dim'])\n",
    "        )\n",
    "\n",
    "    def forward(self, x): \n",
    "        return self.layers(x)\n"
   ]
  },
  {
   "cell_type": "code",
   "execution_count": 14,
   "id": "ca51eb9e",
   "metadata": {},
   "outputs": [],
   "source": [
    "class TransformerBlock(nn.Module): \n",
    "    def __init__(self, cfg): \n",
    "        super().__init__()\n",
    "        self.ln1 = LayerNorm(emb_dim=cfg['emb_dim'])\n",
    "        self.mha = MultiHeadAttention(cfg['emb_dim'], cfg['emb_dim'], cfg['context_length'], cfg['drop_rate'], n_heads=cfg['n_heads'], qkv_biases=False)\n",
    "        self.drop1 = nn.Dropout(cfg['drop_rate'])\n",
    "        self.ln2 = LayerNorm(emb_dim=cfg['emb_dim'])\n",
    "        self.ff = FeedForward(cfg)\n",
    "        self.drop2 = nn.Dropout(cfg['drop_rate'])\n",
    "\n",
    "\n",
    "    def forward(self, x): \n",
    "        shortcut = x\n",
    "        x = self.ln1(x)\n",
    "        x = self.mha(x)\n",
    "        x = self.drop1(x)\n",
    "        x = x + shortcut\n",
    "\n",
    "        shortcut = x\n",
    "        x = self.ln2(x)\n",
    "        x = self.ff(x)\n",
    "        x = self.drop2(x)\n",
    "        x = x + shortcut\n",
    "\n",
    "        return x\n",
    "    \n",
    "class DummyLayerNorm(nn.Module): \n",
    "    def __init__(self, normalized_shape, eps=1e-5): \n",
    "        super().__init__()\n",
    "\n",
    "    def forward(self, x): \n",
    "        return x"
   ]
  },
  {
   "cell_type": "code",
   "execution_count": 17,
   "id": "49d9b896",
   "metadata": {},
   "outputs": [
    {
     "name": "stdout",
     "output_type": "stream",
     "text": [
      "torch.Size([2, 12, 4, 64]) torch.Size([2, 12, 4, 64]) torch.Size([2, 12, 4, 64])\n",
      "torch.Size([2, 4, 12, 64]) 768\n"
     ]
    },
    {
     "data": {
      "text/plain": [
       "torch.Size([2, 4, 768])"
      ]
     },
     "execution_count": 17,
     "metadata": {},
     "output_type": "execute_result"
    }
   ],
   "source": [
    "torch.manual_seed(123)\n",
    "input = torch.randn((2, 4, 768))\n",
    "tr = TransformerBlock(GPT_CONFIG)\n",
    "out = tr(input)\n",
    "out.shape"
   ]
  },
  {
   "cell_type": "code",
   "execution_count": 18,
   "id": "e96d9a08",
   "metadata": {},
   "outputs": [
    {
     "data": {
      "text/plain": [
       "tensor([[[ 0.2422, -0.4683, -0.1459,  ...,  0.3523, -1.7843,  0.9341],\n",
       "         [ 0.3987,  0.0514, -0.6592,  ...,  0.2607,  0.1367,  0.0394],\n",
       "         [ 0.7005,  0.2444,  1.1003,  ..., -0.4044,  0.0659, -1.6542],\n",
       "         [ 0.1096,  1.6913, -2.0804,  ...,  0.9084, -1.5746,  0.3340]],\n",
       "\n",
       "        [[ 0.5687,  0.8201, -0.6751,  ...,  0.8507, -0.1991,  1.2828],\n",
       "         [-0.2925, -0.8001, -0.6078,  ...,  1.5034, -0.0915,  0.6611],\n",
       "         [-1.2220, -0.7000, -0.3639,  ...,  0.4061, -1.5129,  1.4650],\n",
       "         [-0.5226, -1.1378,  0.4513,  ...,  0.6244, -0.9750,  0.9923]]],\n",
       "       grad_fn=<AddBackward0>)"
      ]
     },
     "execution_count": 18,
     "metadata": {},
     "output_type": "execute_result"
    }
   ],
   "source": [
    "out"
   ]
  },
  {
   "cell_type": "code",
   "execution_count": 111,
   "id": "69141e90",
   "metadata": {},
   "outputs": [],
   "source": [
    "# Maybe plot relu and gelu to see"
   ]
  },
  {
   "cell_type": "code",
   "execution_count": null,
   "id": "5b965633",
   "metadata": {},
   "outputs": [],
   "source": [
    "class GPTModel(nn.Module): \n",
    "    def __init__(self, cfg): \n",
    "        super().__init__()\n",
    "        self.tok_emb = nn.Embedding(cfg['vocab_size'], cfg['emb_dim'])\n",
    "        self.pos_emb = nn.Embedding(cfg['context_length'], cfg['emb_dim'])\n",
    "        self.tfs = nn.Sequential(*[TransformerBlock(cfg) for i in range(cfg['n_layers'])])"
   ]
  },
  {
   "cell_type": "code",
   "execution_count": null,
   "id": "02811047",
   "metadata": {},
   "outputs": [],
   "source": []
  }
 ],
 "metadata": {
  "kernelspec": {
   "display_name": "nn-zero-to-hero",
   "language": "python",
   "name": "python3"
  },
  "language_info": {
   "codemirror_mode": {
    "name": "ipython",
    "version": 3
   },
   "file_extension": ".py",
   "mimetype": "text/x-python",
   "name": "python",
   "nbconvert_exporter": "python",
   "pygments_lexer": "ipython3",
   "version": "3.12.11"
  }
 },
 "nbformat": 4,
 "nbformat_minor": 5
}
