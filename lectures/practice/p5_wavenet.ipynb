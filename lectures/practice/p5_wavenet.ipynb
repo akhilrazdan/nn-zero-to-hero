{
 "cells": [
  {
   "cell_type": "code",
   "execution_count": 67,
   "id": "a7f2a708",
   "metadata": {},
   "outputs": [],
   "source": [
    "import matplotlib.pyplot as plt"
   ]
  },
  {
   "cell_type": "code",
   "execution_count": 3,
   "id": "1498a0d7",
   "metadata": {},
   "outputs": [
    {
     "data": {
      "text/plain": [
       "32033"
      ]
     },
     "execution_count": 3,
     "metadata": {},
     "output_type": "execute_result"
    }
   ],
   "source": [
    "names = open(\"../makemore/names.txt\").read().splitlines()\n",
    "len(names)"
   ]
  },
  {
   "cell_type": "code",
   "execution_count": 10,
   "id": "9b431397",
   "metadata": {},
   "outputs": [],
   "source": [
    "stoi = {c: idx for idx, c in enumerate(['.'] + sorted(set(list(''.join(names)))))}\n",
    "itos = {i: c for c, i in stoi.items()}"
   ]
  },
  {
   "cell_type": "code",
   "execution_count": 20,
   "id": "43c55314",
   "metadata": {},
   "outputs": [
    {
     "name": "stdout",
     "output_type": "stream",
     "text": [
      "torch.Size([228146, 3]) torch.Size([228146])\n"
     ]
    }
   ],
   "source": [
    "import torch\n",
    "def build_dataset(words, block_size = 3): \n",
    "    x, y = [], []\n",
    "    for word in words:\n",
    "        context = [0] * block_size\n",
    "        for c in list(word) + ['.']: \n",
    "            x.append(list(context))\n",
    "            y.append(stoi[c])\n",
    "            context = context[1:] + [stoi[c]]\n",
    "    X = torch.tensor(x)\n",
    "    Y = torch.tensor(y)\n",
    "    print(X.shape, Y.shape)\n",
    "    return X, Y\n",
    "x, y = build_dataset(names)"
   ]
  },
  {
   "cell_type": "code",
   "execution_count": 137,
   "id": "560ce0c3",
   "metadata": {},
   "outputs": [
    {
     "name": "stdout",
     "output_type": "stream",
     "text": [
      "torch.Size([182424, 3]) torch.Size([182424])\n",
      "torch.Size([22836, 3]) torch.Size([22836])\n",
      "torch.Size([22886, 3]) torch.Size([22886])\n"
     ]
    }
   ],
   "source": [
    "import random\n",
    "random.seed(42)\n",
    "random.shuffle(names)\n",
    "\n",
    "n1 = int(0.8 * len(names))\n",
    "n2 = int(0.9 * len(names))\n",
    "\n",
    "Xtr,  Ytr  = build_dataset(names[:n1])     # 80%\n",
    "Xdev, Ydev = build_dataset(names[n1:n2])   # 10%\n",
    "Xte,  Yte  = build_dataset(names[n2:])     # 10%"
   ]
  },
  {
   "cell_type": "code",
   "execution_count": 138,
   "id": "01b824ba",
   "metadata": {},
   "outputs": [],
   "source": [
    "from torch import nn\n",
    "import torch.nn.functional as F"
   ]
  },
  {
   "cell_type": "code",
   "execution_count": 155,
   "id": "7de66353",
   "metadata": {},
   "outputs": [],
   "source": [
    "n_emb = 10\n",
    "n_hidden = 200\n",
    "vocab_size = 27\n",
    "block_size = 3\n",
    "model = nn.Sequential(\n",
    "    nn.Embedding(vocab_size, n_emb),\n",
    "    nn.Flatten(start_dim=1),\n",
    "    nn.Linear(n_emb * block_size, n_hidden),\n",
    "    nn.BatchNorm1d(n_hidden),\n",
    "    nn.Tanh(),\n",
    "    nn.Linear(n_hidden, vocab_size)\n",
    ")\n",
    "\n",
    "with torch.no_grad():\n",
    "    model[2].weight *= 5/3  # scale first Linear's weights\n",
    "    model[2].bias.zero_()\n",
    "    model[5].weight.zero_()  # output layer\n",
    "    model[5].bias.zero_()\n"
   ]
  },
  {
   "cell_type": "code",
   "execution_count": 156,
   "id": "3ca8034b",
   "metadata": {},
   "outputs": [
    {
     "data": {
      "text/plain": [
       "12297"
      ]
     },
     "execution_count": 156,
     "metadata": {},
     "output_type": "execute_result"
    }
   ],
   "source": [
    "sum(p.numel() for p in model.parameters())"
   ]
  },
  {
   "cell_type": "code",
   "execution_count": 157,
   "id": "79a56c8d",
   "metadata": {},
   "outputs": [
    {
     "data": {
      "text/plain": [
       "<torch._C.Generator at 0x12897d430>"
      ]
     },
     "execution_count": 157,
     "metadata": {},
     "output_type": "execute_result"
    }
   ],
   "source": [
    "torch.manual_seed(42)"
   ]
  },
  {
   "cell_type": "code",
   "execution_count": 158,
   "id": "961160a7",
   "metadata": {},
   "outputs": [],
   "source": [
    "epochs = 200000\n",
    "lossi = []\n",
    "model.train()\n",
    "for i in range(epochs):\n",
    "    ix = torch.randint(0, Xtr.shape[0], (32,))\n",
    "    logits = model(Xtr[ix])\n",
    "    loss = F.cross_entropy(logits, Ytr[ix])\n",
    "    \n",
    "    # set grad\n",
    "    for p in model.parameters(): \n",
    "        p.grad = None\n",
    "        \n",
    "    loss.backward()\n",
    "    \n",
    "    lr = 0.1 if i < 100000 else 0.01\n",
    "\n",
    "    for p in model.parameters(): \n",
    "        p.data += -lr * p.grad\n",
    "    lossi.append(loss.log10().item())        "
   ]
  },
  {
   "cell_type": "code",
   "execution_count": 159,
   "id": "13991b86",
   "metadata": {},
   "outputs": [
    {
     "data": {
      "text/plain": [
       "[<matplotlib.lines.Line2D at 0x139b5da20>]"
      ]
     },
     "execution_count": 159,
     "metadata": {},
     "output_type": "execute_result"
    },
    {
     "data": {
      "image/png": "[encoded data removed]",
      "text/plain": [
       "<Figure size 640x480 with 1 Axes>"
      ]
     },
     "metadata": {},
     "output_type": "display_data"
    }
   ],
   "source": [
    "plt.plot(torch.tensor(lossi).view(-1, 1000).mean(dim=1))"
   ]
  },
  {
   "cell_type": "code",
   "execution_count": 160,
   "id": "8c811ca9",
   "metadata": {},
   "outputs": [
    {
     "name": "stdout",
     "output_type": "stream",
     "text": [
      "train 2.0611088275909424\n",
      "val 2.120359420776367\n"
     ]
    },
    {
     "data": {
      "text/plain": [
       "tensor(2.1204)"
      ]
     },
     "execution_count": 160,
     "metadata": {},
     "output_type": "execute_result"
    }
   ],
   "source": [
    "@torch.no_grad\n",
    "def split_loss(t): \n",
    "    x, y = {\n",
    "        'train': (Xtr, Ytr), \n",
    "        'dev': (Xdev, Ydev),\n",
    "        'val': (Xte, Yte)\n",
    "    }[t]\n",
    "    model.eval()\n",
    "    logits = model(x)\n",
    "    loss = F.cross_entropy(logits, y)\n",
    "    print(t, loss.item())\n",
    "    return loss\n",
    "split_loss('train')\n",
    "split_loss('val')"
   ]
  },
  {
   "cell_type": "code",
   "execution_count": 161,
   "id": "ce6907ef",
   "metadata": {},
   "outputs": [
    {
     "name": "stdout",
     "output_type": "stream",
     "text": [
      "everince\n",
      "tyta\n",
      "irha\n",
      "zzair\n",
      "den\n",
      "hella\n",
      "kel\n",
      "chailyah\n",
      "trulie\n",
      "hel\n"
     ]
    }
   ],
   "source": [
    "# Sample 10 names\n",
    "model.eval()\n",
    "for i in range(10): \n",
    "    context = [0] * block_size\n",
    "    out = []\n",
    "    \n",
    "    while True: \n",
    "        x = torch.tensor([context])\n",
    "        \n",
    "        with torch.no_grad():\n",
    "            logits = model(x)\n",
    "        probs = F.softmax(logits, dim = -1)\n",
    "        ix = torch.multinomial(probs, num_samples=1).item()\n",
    "        if ix == 0: \n",
    "            break\n",
    "        \n",
    "        out.append(ix)\n",
    "        context = context[1:] + [ix]\n",
    "        \n",
    "        \n",
    "    print(''.join(itos[i] for i in out))"
   ]
  },
  {
   "cell_type": "code",
   "execution_count": null,
   "id": "38dda6a0",
   "metadata": {},
   "outputs": [],
   "source": []
  },
  {
   "cell_type": "code",
   "execution_count": null,
   "id": "395ecbf7",
   "metadata": {},
   "outputs": [],
   "source": []
  }
 ],
 "metadata": {
  "kernelspec": {
   "display_name": "Python 3",
   "language": "python",
   "name": "python3"
  },
  "language_info": {
   "codemirror_mode": {
    "name": "ipython",
    "version": 3
   },
   "file_extension": ".py",
   "mimetype": "text/x-python",
   "name": "python",
   "nbconvert_exporter": "python",
   "pygments_lexer": "ipython3",
   "version": "3.10.18"
  }
 },
 "nbformat": 4,
 "nbformat_minor": 5
}
